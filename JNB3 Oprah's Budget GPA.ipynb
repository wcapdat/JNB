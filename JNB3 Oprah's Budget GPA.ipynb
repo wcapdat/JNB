{
 "cells": [
  {
   "cell_type": "markdown",
   "metadata": {},
   "source": [
    "Name:\n",
    "<hr>\n",
    "<h3> JNB3 Oprah's Budget</h3>\n",
    "\n",
    "<h3> STEP ONE</h3>\n",
    "Oprah's budget is as follows:\n",
    "\n",
    "<ul>\n",
    "    <li> Housing 35%</li>\n",
    "     <li> Other Living Expenses (food, clothes, phone, childcare, entertainment) 25% </li>\n",
    "    <li> Transportation 15% </li>\n",
    "    <li> Debt 15%</li>\n",
    "    <li> Savings 10% </li>\n",
    "   </ul>\n",
    "Execute the following cell to create such a budget. Begin by specifying how much you think you can make in a month."
   ]
  },
  {
   "cell_type": "code",
   "execution_count": null,
   "metadata": {},
   "outputs": [],
   "source": [
    "monthly_wage=   #fill in this amount\n",
    "print(\"Your Budget (based on $\",monthly_wage,\" per month):\")\n",
    "print(\"Housing = $\",.35*monthly_wage)\n",
    "print(\"Other Living Expenses (food, clothes, phone, childcare, entertainment) = $\",.25*monthly_wage)\n",
    "print(\"Transportation = $\", .15*monthly_wage)\n",
    "print(\"Debt = $\", .15*monthly_wage)\n",
    "print(\"Savings = $\", .1*monthly_wage)"
   ]
  },
  {
   "cell_type": "markdown",
   "metadata": {},
   "source": [
    "Q1. How much is available for Other Living Expenses (food, clothes, phone, childcare, entertainment)?\n",
    "<hr>\n",
    "<h3> STEP TWO</h3>\n",
    "Let's make a pie chart of this budget."
   ]
  },
  {
   "cell_type": "code",
   "execution_count": null,
   "metadata": {},
   "outputs": [],
   "source": [
    "import matplotlib.pyplot as plt  #plot library\n",
    "fig, ax = plt.subplots(figsize=(7,7)) #you can adjust the figsize  (5,5)=(length,width)\n",
    "        \n",
    "budget_items = ['Housing','Other Living Expenses (food, clothes, phone, chidcare, entertainment)','Transportation','Debt','Savings'] #categories\n",
    "budget = [.35*monthly_wage,.25*monthly_wage,.15*monthly_wage,.15*monthly_wage,.1*monthly_wage] #amounts\n",
    "total=sum(budget)\n",
    "ax=plt.pie(budget,labels=budget_items,autopct=lambda p: '${:.0f}'.format(p * total / 100)) #make pie chart  autopct='%1.0f%%'\n",
    "plt.gca().set_title('Budget Breakdown Based on $'+str(monthly_wage)+\" Per Month\") #add a title\n",
    "fig.savefig('OprahBudget.png') #save the piechart to a file Budget.png"
   ]
  },
  {
   "cell_type": "markdown",
   "metadata": {},
   "source": [
    "Q2. What amount should go to savings each month?\n",
    "<hr>\n",
    "<h3>STEP THREE</h3>\n",
    "Let's create a more detailed monthly budget.\n",
    "foodfood -amount we spend on food each month\n",
    "rentrent -amount we pay for monthly for rent\n",
    "clothesclothes -how much we spend monthly on shoes and clothes\n",
    "phonephone -how much we spend monthly on phone\n",
    "childcarechildcare -how much we spend for monthly childcare\n",
    "savingssavings -how much we spend monthly for educational expenses\n",
    "educationeducation -how much we spend monthly on healthcare\n",
    "transportationtransportation -how much we spend monthly on transportation\n",
    "miscmisc -all other monthly expenses\n",
    "After checking the amounts in the next cell, press shift+enter to execute"
   ]
  },
  {
   "cell_type": "code",
   "execution_count": null,
   "metadata": {},
   "outputs": [],
   "source": [
    "food=500 \n",
    "rent=500 \n",
    "clothes=25\n",
    "phone=50\n",
    "childcare=100\n",
    "savings=50\n",
    "education=100\n",
    "transportation=150\n",
    "misc=200\n",
    "debt=100"
   ]
  },
  {
   "cell_type": "markdown",
   "metadata": {},
   "source": [
    "Q3. What percentage does the person spend on childcare?\n",
    "<hr>\n",
    "<h3> STEP FOUR </h3> \n",
    "Let's make a piechart for this budget. (press shift+enter to execute each cell. You may need to execute this cell twice before the graph appears.)"
   ]
  },
  {
   "cell_type": "code",
   "execution_count": null,
   "metadata": {},
   "outputs": [],
   "source": [
    "import matplotlib.pyplot as plt  #plot library\n",
    "fig, ax = plt.subplots(figsize=(7,7)) #you can adjust the figsize  (7,7)=(length,width)\n",
    "      \n",
    "budget_items = ['food','rent','clothes','phone','childcare','savings','education','transportation','misc','debt'] #categories\n",
    "budget = [food,rent,clothes,phone,childcare,savings,education,transportation,misc,debt] #amounts\n",
    "total=sum(budget)\n",
    "ax=plt.pie(budget,labels=budget_items,autopct=lambda p: '${:.0f}'.format(p * total / 100)) #make pie chart  autopct='%1.0f%%'\n",
    "plt.gca().set_title('Budget Breakdown Out of $'+str(total)+' in Monthly Expenses') #add a title\n",
    "fig.savefig('Budget.png') #save the piechart to a file Budget.png"
   ]
  },
  {
   "cell_type": "markdown",
   "metadata": {},
   "source": [
    "Q4. Which categories have the highest percentage?  lowest percentage?\n",
    "<hr>"
   ]
  },
  {
   "cell_type": "markdown",
   "metadata": {},
   "source": [
    "<h3> STEP FIVE</h3>\n",
    "Let's define a function which tells us if any given net weekly_pay is sufficient to meet budget.\n",
    "Then we'll check if a $400 net weekly pay is enough to balance the budget."
   ]
  },
  {
   "cell_type": "code",
   "execution_count": null,
   "metadata": {},
   "outputs": [],
   "source": [
    "def myBudget(weekly_pay,food,rent,clothes,phone,childcare,savings,education,transportation, misc,debt):\n",
    "    earnings=weekly_pay*4  #monthly earnings where we assume for simplicty that a month=4 weeks\n",
    "    expenses=food+rent+clothes+childcare+phone+savings+education+transportation+misc+debt #monthly expenses\n",
    "    net=earnings-expenses\n",
    "    if net>0:\n",
    "        print(\"Congratulations! For your budget,  earning a weekly pay of $\",weekly_pay, \" You are IN THE BLACK: $\", net)\n",
    "    else:\n",
    "        print(\"Warning! For your budget, earning a weekly pay of $\",weekly_pay, \" You are IN THE RED $\", net)\n",
    "    return \n",
    "weekly_pay=400\n",
    "myBudget(weekly_pay,food,rent,clothes,phone,childcare,savings,education,transportation, misc,debt)"
   ]
  },
  {
   "cell_type": "markdown",
   "metadata": {},
   "source": [
    "Q5.  How much further will you go in debt each month if your net weekly pay is $400?\n",
    "<hr>\n",
    "<h3>STEP SIX</h3>\n",
    "Let's check what happens for net weekly pay starting at \\$25 and going up to \\$500 in steps of \\$25."
   ]
  },
  {
   "cell_type": "code",
   "execution_count": null,
   "metadata": {},
   "outputs": [],
   "source": [
    "import numpy as np\n",
    "for i in np.arange(25,525,25):\n",
    "    weekly_pay=i\n",
    "    myBudget(weekly_pay,food,rent,clothes,phone,childcare,savings,education,transportation, misc,debt)"
   ]
  },
  {
   "cell_type": "markdown",
   "metadata": {},
   "source": [
    "Q6. What net weekly pay will put you in the black by \\$25?\n",
    "<hr>\n",
    "<h3>STEP SEVEN</h3>\n",
    "Enter the amounts for your budget."
   ]
  },
  {
   "cell_type": "code",
   "execution_count": null,
   "metadata": {},
   "outputs": [],
   "source": [
    "weekly_pay=\n",
    "food= \n",
    "rent= \n",
    "clothes=\n",
    "phone=\n",
    "childcare=\n",
    "savings=\n",
    "education=\n",
    "transportation=\n",
    "misc="
   ]
  },
  {
   "cell_type": "markdown",
   "metadata": {},
   "source": [
    "Q7. Do you think you are in the black or in the red?  By how much?\n",
    "<hr>\n",
    "<h3>STEP EIGHT</h3>\n",
    "Use the myBudget function to check if you are in the red or in the black."
   ]
  },
  {
   "cell_type": "code",
   "execution_count": null,
   "metadata": {},
   "outputs": [],
   "source": []
  },
  {
   "cell_type": "markdown",
   "metadata": {},
   "source": [
    "Q8. Did things turn out as you expected?  Why or why not?\n",
    "<hr>"
   ]
  },
  {
   "cell_type": "markdown",
   "metadata": {},
   "source": [
    "Q9. How important is it to make a budget?\n",
    "<hr>"
   ]
  },
  {
   "cell_type": "markdown",
   "metadata": {},
   "source": [
    "Q10. What is the biggest challenge to staying in the black each month?\n",
    "<hr>"
   ]
  }
 ],
 "metadata": {
  "kernelspec": {
   "display_name": "Python 3",
   "language": "python",
   "name": "python3"
  },
  "language_info": {
   "codemirror_mode": {
    "name": "ipython",
    "version": 3
   },
   "file_extension": ".py",
   "mimetype": "text/x-python",
   "name": "python",
   "nbconvert_exporter": "python",
   "pygments_lexer": "ipython3",
   "version": "3.6.4"
  }
 },
 "nbformat": 4,
 "nbformat_minor": 2
}
