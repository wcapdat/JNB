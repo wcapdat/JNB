{
 "cells": [
  {
   "cell_type": "code",
   "execution_count": null,
   "metadata": {},
   "outputs": [],
   "source": [
    " def score(team, points):\n",
    "        import matplotlib.pyplot as plt\n",
    "        #Update points\n",
    "        df.loc[\"score\",str(team)]=df.loc[\"score\",str(team)]+points\n",
    "        #Create figure\n",
    "        fig=plt.figure(figsize=(1,1)) #creates a new figure with width 10 and height 3\n",
    "        bar_positions=[1,2,3,4,5]  # Positions the 4 bars at x=1,2,3,4\n",
    "        bar_labels =[1,2,3,4,5]  #Labels the bars using the names in the \"Food\" column  \n",
    "        bar_heights=[df.loc[\"score\",'1'],df.loc[\"score\",'2'],df.loc[\"score\",'3'],df.loc[\"score\",'4'],df.loc[\"score\",'5']] #Bar heights are the numbers in the \"Sodium (milligrams)\" column\n",
    "        plt.bar(bar_positions, bar_heights, tick_label =bar_labels,width = 0.3,color='black',alpha=.2) #Create the bar chart\n",
    "        #Label bars with point totals\n",
    "        import numpy as np\n",
    "        for team in np.arange(1,6,1):\n",
    "            plt.gca().text(team,df.loc[\"score\",str(team)], str(df.loc[\"score\",str(team)]), \n",
    "                     ha='center', color='r', fontsize=10) #Label the BM homicide counts\n",
    "        #Other Labels\n",
    "        plt.xlabel('Team',size=10) # Adds a name for the x-axis\n",
    "        plt.ylabel('Points',size=10) # Adds a name for the y-axis\n",
    "        #Save and Display Barchart\n",
    "        plt.show()\n",
    "        return"
   ]
  }
 ],
 "metadata": {
  "kernelspec": {
   "display_name": "Python 3",
   "language": "python",
   "name": "python3"
  },
  "language_info": {
   "codemirror_mode": {
    "name": "ipython",
    "version": 3
   },
   "file_extension": ".py",
   "mimetype": "text/x-python",
   "name": "python",
   "nbconvert_exporter": "python",
   "pygments_lexer": "ipython3",
   "version": "3.6.4"
  }
 },
 "nbformat": 4,
 "nbformat_minor": 2
}
